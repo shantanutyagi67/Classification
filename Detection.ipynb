{
 "cells": [
  {
   "cell_type": "code",
   "execution_count": 2,
   "metadata": {},
   "outputs": [],
   "source": [
    "import cv2\n",
    "\n",
    "# Load the cascade\n",
    "face_cascade = cv2.CascadeClassifier('C:\\\\Users\\\\geekSA67\\\\AppData\\\\Local\\\\Programs\\\\Python\\\\Python38\\\\Lib\\\\site-packages\\\\~~2\\\\data\\\\haarcascade_frontalface_default.xml')\n",
    "\n",
    "# To capture video from webcam. \n",
    "cap = cv2.VideoCapture(0)\n",
    "# To use a video file as input \n",
    "#cap = cv2.VideoCapture('E:\\\\youtube\\\\uploads\\\\MrBeast 50M\\\\50M_Final.mp4')\n",
    "\n",
    "while True:\n",
    "    # Read the frame\n",
    "    rect, img = cap.read()\n",
    "    img = cv2.flip(img, 1)\n",
    "    # Convert to grayscale\n",
    "    gray = cv2.cvtColor(img, cv2.COLOR_BGR2GRAY)\n",
    "    # Detect the faces\n",
    "    faces = face_cascade.detectMultiScale(gray, 1.1, 4)\n",
    "    # Draw the rectangle around each face\n",
    "    i = 0;\n",
    "    for (x, y, w, h) in faces:\n",
    "        i=i+1\n",
    "        cv2.rectangle(img, (x-20, y-20), (x+w+20, y+h+20), (255, 0, 0), 2)\n",
    "        #cv2.putText(img, \"id \" + str(i), (x, y), cv2.FONT_HERSHEY_PLAIN, 1.0, (0,255,0), 2)\n",
    "    # Display\n",
    "    cv2.imshow('img', img)\n",
    "    # Stop if escape key is pressed\n",
    "    if cv2.waitKey(1) & 0xff == ord('e'):\n",
    "        cv2.imwrite('Detected.png', img)\n",
    "        img = cv2.imread('Detected.png')\n",
    "        gray = cv2.cvtColor(img, cv2.COLOR_BGR2GRAY)\n",
    "        faces = face_cascade.detectMultiScale(gray, 1.1, 4)\n",
    "        i = 0;\n",
    "        for (x, y, w, h) in faces:\n",
    "            i=i+1\n",
    "            cv2.rectangle(img, (x-20, y-20), (x+w+20, y+h+20), (255, 0, 0), 2)\n",
    "            cv2.putText(img, \"id \" + str(i), (x, y), cv2.FONT_HERSHEY_SIMPLEX, 1.0, (255,0,0), 0)\n",
    "            cv2.imwrite('Detected.png', img)\n",
    "        \n",
    "        break\n",
    "# Release the VideoCapture object\n",
    "cap.release()\n",
    "del(cap)\n",
    "cv2.destroyAllWindows()"
   ]
  },
  {
   "cell_type": "code",
   "execution_count": null,
   "metadata": {},
   "outputs": [],
   "source": []
  }
 ],
 "metadata": {
  "kernelspec": {
   "display_name": "Python 3",
   "language": "python",
   "name": "python3"
  },
  "language_info": {
   "codemirror_mode": {
    "name": "ipython",
    "version": 3
   },
   "file_extension": ".py",
   "mimetype": "text/x-python",
   "name": "python",
   "nbconvert_exporter": "python",
   "pygments_lexer": "ipython3",
   "version": "3.8.5"
  }
 },
 "nbformat": 4,
 "nbformat_minor": 4
}
