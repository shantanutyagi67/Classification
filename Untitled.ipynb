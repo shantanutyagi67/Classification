{
 "cells": [
  {
   "cell_type": "code",
   "execution_count": 1,
   "metadata": {},
   "outputs": [
    {
     "ename": "error",
     "evalue": "OpenCV(4.4.0) C:\\Users\\appveyor\\AppData\\Local\\Temp\\1\\pip-req-build-wwma2wne\\opencv\\modules\\objdetect\\src\\cascadedetect.cpp:1689: error: (-215:Assertion failed) !empty() in function 'cv::CascadeClassifier::detectMultiScale'\n",
     "output_type": "error",
     "traceback": [
      "\u001b[1;31m---------------------------------------------------------------------------\u001b[0m",
      "\u001b[1;31merror\u001b[0m                                     Traceback (most recent call last)",
      "\u001b[1;32m<ipython-input-1-836a76be76aa>\u001b[0m in \u001b[0;36m<module>\u001b[1;34m\u001b[0m\n\u001b[0;32m     17\u001b[0m \u001b[0mstop_data\u001b[0m \u001b[1;33m=\u001b[0m \u001b[0mcv2\u001b[0m\u001b[1;33m.\u001b[0m\u001b[0mCascadeClassifier\u001b[0m\u001b[1;33m(\u001b[0m\u001b[1;34m'stop_data.xml'\u001b[0m\u001b[1;33m)\u001b[0m\u001b[1;33m\u001b[0m\u001b[1;33m\u001b[0m\u001b[0m\n\u001b[0;32m     18\u001b[0m \u001b[1;33m\u001b[0m\u001b[0m\n\u001b[1;32m---> 19\u001b[1;33m found = stop_data.detectMultiScale(img_gray,  \n\u001b[0m\u001b[0;32m     20\u001b[0m                                    minSize =(20, 20)) \n\u001b[0;32m     21\u001b[0m \u001b[1;33m\u001b[0m\u001b[0m\n",
      "\u001b[1;31merror\u001b[0m: OpenCV(4.4.0) C:\\Users\\appveyor\\AppData\\Local\\Temp\\1\\pip-req-build-wwma2wne\\opencv\\modules\\objdetect\\src\\cascadedetect.cpp:1689: error: (-215:Assertion failed) !empty() in function 'cv::CascadeClassifier::detectMultiScale'\n"
     ]
    }
   ],
   "source": [
    "import cv2 \n",
    "from matplotlib import pyplot as plt \n",
    "  \n",
    "# Opening image \n",
    "img = cv2.imread(\"Detected.png\") \n",
    "  \n",
    "# OpenCV opens images as BRG  \n",
    "# but we want it as RGB We'll  \n",
    "# also need a grayscale version \n",
    "img_gray = cv2.cvtColor(img, cv2.COLOR_BGR2GRAY) \n",
    "img_rgb = cv2.cvtColor(img, cv2.COLOR_BGR2RGB) \n",
    "  \n",
    "  \n",
    "# Use minSize because for not  \n",
    "# bothering with extra-small  \n",
    "# dots that would look like STOP signs \n",
    "stop_data = cv2.CascadeClassifier('stop_data.xml') \n",
    "  \n",
    "found = stop_data.detectMultiScale(img_gray,  \n",
    "                                   minSize =(20, 20)) \n",
    "  \n",
    "# Don't do anything if there's  \n",
    "# no sign \n",
    "amount_found = len(found) \n",
    "  \n",
    "if amount_found != 0: \n",
    "      \n",
    "    # There may be more than one \n",
    "    # sign in the image \n",
    "    for (x, y, width, height) in found: \n",
    "          \n",
    "        # We draw a green rectangle around \n",
    "        # every recognized sign \n",
    "        cv2.rectangle(img_rgb, (x, y),  \n",
    "                      (x + height, y + width),  \n",
    "                      (0, 255, 0), 5) \n",
    "          \n",
    "# Creates the environment of  \n",
    "# the picture and shows it \n",
    "plt.subplot(1, 1, 1) \n",
    "plt.imshow(img_rgb) \n",
    "plt.show() "
   ]
  },
  {
   "cell_type": "code",
   "execution_count": null,
   "metadata": {},
   "outputs": [],
   "source": []
  }
 ],
 "metadata": {
  "kernelspec": {
   "display_name": "Python 3",
   "language": "python",
   "name": "python3"
  },
  "language_info": {
   "codemirror_mode": {
    "name": "ipython",
    "version": 3
   },
   "file_extension": ".py",
   "mimetype": "text/x-python",
   "name": "python",
   "nbconvert_exporter": "python",
   "pygments_lexer": "ipython3",
   "version": "3.8.5"
  }
 },
 "nbformat": 4,
 "nbformat_minor": 4
}
